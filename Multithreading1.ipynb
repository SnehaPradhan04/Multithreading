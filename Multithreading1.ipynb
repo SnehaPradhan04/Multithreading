{
  "nbformat": 4,
  "nbformat_minor": 0,
  "metadata": {
    "colab": {
      "provenance": [],
      "authorship_tag": "ABX9TyMg8eVFveceZTDR/tPTrZeW",
      "include_colab_link": true
    },
    "kernelspec": {
      "name": "python3",
      "display_name": "Python 3"
    },
    "language_info": {
      "name": "python"
    }
  },
  "cells": [
    {
      "cell_type": "markdown",
      "metadata": {
        "id": "view-in-github",
        "colab_type": "text"
      },
      "source": [
        "<a href=\"https://colab.research.google.com/github/SnehaPradhan04/Multithreading/blob/main/Multithreading1.ipynb\" target=\"_parent\"><img src=\"https://colab.research.google.com/assets/colab-badge.svg\" alt=\"Open In Colab\"/></a>"
      ]
    },
    {
      "cell_type": "code",
      "execution_count": 2,
      "metadata": {
        "id": "3NvWa3Xgy-7N"
      },
      "outputs": [],
      "source": [
        "import threading\n",
        "def test(id) :\n",
        "  print(\"this is my test id %d \" % id)"
      ]
    },
    {
      "cell_type": "code",
      "source": [
        "test(10)"
      ],
      "metadata": {
        "colab": {
          "base_uri": "https://localhost:8080/"
        },
        "id": "LUewSu0qz_ka",
        "outputId": "f4a3801c-2f4e-4d6e-9756-83bb034c076d"
      },
      "execution_count": 3,
      "outputs": [
        {
          "output_type": "stream",
          "name": "stdout",
          "text": [
            "this is my test id 10 \n"
          ]
        }
      ]
    },
    {
      "cell_type": "code",
      "source": [
        "test(1)"
      ],
      "metadata": {
        "colab": {
          "base_uri": "https://localhost:8080/"
        },
        "id": "VCZmEbuM0HLB",
        "outputId": "b12b2506-72b3-4fbc-e169-2de674ae09c7"
      },
      "execution_count": 4,
      "outputs": [
        {
          "output_type": "stream",
          "name": "stdout",
          "text": [
            "this is my test id 1 \n"
          ]
        }
      ]
    },
    {
      "cell_type": "code",
      "source": [
        "test(3)"
      ],
      "metadata": {
        "colab": {
          "base_uri": "https://localhost:8080/"
        },
        "id": "l81o5lns0KY2",
        "outputId": "73c51013-787a-468f-88f5-889f0de3e148"
      },
      "execution_count": 5,
      "outputs": [
        {
          "output_type": "stream",
          "name": "stdout",
          "text": [
            "this is my test id 3 \n"
          ]
        }
      ]
    },
    {
      "cell_type": "code",
      "source": [
        "thred = [threading.Thread(target=test , args = (i,)) for i in[10, 1, 3]]"
      ],
      "metadata": {
        "id": "hlRIVRZd0NSU"
      },
      "execution_count": 7,
      "outputs": []
    },
    {
      "cell_type": "code",
      "source": [
        "thred"
      ],
      "metadata": {
        "colab": {
          "base_uri": "https://localhost:8080/"
        },
        "id": "l1WqlV3Z1DDR",
        "outputId": "aeb8a31e-67aa-4ca9-fb25-7628008c4c72"
      },
      "execution_count": 8,
      "outputs": [
        {
          "output_type": "execute_result",
          "data": {
            "text/plain": [
              "[<Thread(Thread-13 (test), initial)>,\n",
              " <Thread(Thread-14 (test), initial)>,\n",
              " <Thread(Thread-15 (test), initial)>]"
            ]
          },
          "metadata": {},
          "execution_count": 8
        }
      ]
    },
    {
      "cell_type": "code",
      "source": [
        "for t in thred:\n",
        "  t.start()"
      ],
      "metadata": {
        "colab": {
          "base_uri": "https://localhost:8080/"
        },
        "id": "2KHjUmO_1GHF",
        "outputId": "00bbb0da-b824-4bac-a7cd-44a086071034"
      },
      "execution_count": 9,
      "outputs": [
        {
          "output_type": "stream",
          "name": "stdout",
          "text": [
            "this is my test id 10 this is my test id 1 \n",
            "\n",
            "this is my test id 3 \n"
          ]
        }
      ]
    },
    {
      "cell_type": "code",
      "source": [
        "import urllib.request\n",
        "def file_download(url, filename):\n",
        "  urllib.request.urlretrieve(url, filename)"
      ],
      "metadata": {
        "id": "hkFKKjz645-C"
      },
      "execution_count": 13,
      "outputs": []
    },
    {
      "cell_type": "code",
      "source": [
        "file_download('https://www.espncricinfo.com/records/list-of-series-results-335432', \"cricket.txt\")"
      ],
      "metadata": {
        "id": "W0sUxb085XIX"
      },
      "execution_count": 15,
      "outputs": []
    },
    {
      "cell_type": "code",
      "source": [
        "url_list = ('https://www.espncricinfo.com/records/list-of-series-results-335432', 'https://www.espncricinfo.com/series/asian-games-women-s-cricket-competition-2023-1398686/stats')"
      ],
      "metadata": {
        "id": "mw0Zj6p368dZ"
      },
      "execution_count": 19,
      "outputs": []
    },
    {
      "cell_type": "code",
      "source": [
        "url_list"
      ],
      "metadata": {
        "colab": {
          "base_uri": "https://localhost:8080/"
        },
        "id": "4EWESmqW7WUC",
        "outputId": "913982b2-b8b1-4b91-f5be-9cd4ce8b4fd9"
      },
      "execution_count": 20,
      "outputs": [
        {
          "output_type": "execute_result",
          "data": {
            "text/plain": [
              "('https://www.espncricinfo.com/records/list-of-series-results-335432',\n",
              " 'https://www.espncricinfo.com/series/asian-games-women-s-cricket-competition-2023-1398686/stats')"
            ]
          },
          "metadata": {},
          "execution_count": 20
        }
      ]
    },
    {
      "cell_type": "code",
      "source": [
        "data_file_list = ['data1.txt' , 'data2.txt']\n",
        "\n",
        "thread1 = [threading.Thread(target=file_download, args=(url_list[i],data_file_list[i])) for i in range(len(url_list))]\n",
        "for t in thread1:\n",
        "  t.start()"
      ],
      "metadata": {
        "id": "fO5U2kEX7boR"
      },
      "execution_count": 21,
      "outputs": []
    },
    {
      "cell_type": "code",
      "source": [
        "thread1"
      ],
      "metadata": {
        "colab": {
          "base_uri": "https://localhost:8080/"
        },
        "id": "p_-jaR36-Fl0",
        "outputId": "accac12d-cacd-48f2-99ff-b1ab129091d2"
      },
      "execution_count": 22,
      "outputs": [
        {
          "output_type": "execute_result",
          "data": {
            "text/plain": [
              "[<Thread(Thread-19 (file_download), stopped 139501343077952)>,\n",
              " <Thread(Thread-20 (file_download), stopped 139501433747008)>]"
            ]
          },
          "metadata": {},
          "execution_count": 22
        }
      ]
    },
    {
      "cell_type": "code",
      "source": [
        "import time\n",
        "def test2(x):\n",
        "  for i in range(10):\n",
        "    print(\"test1 print the value of x %d and print the value of i %d\" %(x,i))\n",
        "    time.sleep(1)"
      ],
      "metadata": {
        "id": "GRSFUL9r-RBo"
      },
      "execution_count": 39,
      "outputs": []
    },
    {
      "cell_type": "code",
      "source": [
        "thread2 = [threading.Thread(target=test2, args=(i,)) for i in [100, 10, 20, 5]]"
      ],
      "metadata": {
        "id": "Z3dlCGkv_fqE"
      },
      "execution_count": 40,
      "outputs": []
    },
    {
      "cell_type": "code",
      "source": [
        "for t in thread2:\n",
        "  t.start()"
      ],
      "metadata": {
        "colab": {
          "base_uri": "https://localhost:8080/"
        },
        "id": "I7M4iy22_0Z6",
        "outputId": "aeae7ae5-d5d9-43b2-d92f-379235af6450"
      },
      "execution_count": 41,
      "outputs": [
        {
          "output_type": "stream",
          "name": "stdout",
          "text": [
            "test1 print the value of x 100 and print the value of i 0\n",
            "test1 print the value of x 10 and print the value of i 0\n",
            "test1 print the value of x 20 and print the value of i 0\n",
            "test1 print the value of x 5 and print the value of i 0\n"
          ]
        }
      ]
    },
    {
      "cell_type": "code",
      "source": [
        "test2(10)"
      ],
      "metadata": {
        "colab": {
          "base_uri": "https://localhost:8080/"
        },
        "id": "j9bynGBy-7Ba",
        "outputId": "b3b6fe8d-7c07-4dbc-914b-31e78b38b65d"
      },
      "execution_count": 30,
      "outputs": [
        {
          "output_type": "stream",
          "name": "stdout",
          "text": [
            "test1 print the value of x 10 and print the value of i 0\n",
            "test1 print the value of x 10 and print the value of i 1\n",
            "test1 print the value of x 10 and print the value of i 2\n",
            "test1 print the value of x 10 and print the value of i 3\n",
            "test1 print the value of x 10 and print the value of i 4\n",
            "test1 print the value of x 10 and print the value of i 5\n",
            "test1 print the value of x 10 and print the value of i 6\n",
            "test1 print the value of x 10 and print the value of i 7\n",
            "test1 print the value of x 10 and print the value of i 8\n",
            "test1 print the value of x 10 and print the value of i 9\n"
          ]
        }
      ]
    },
    {
      "cell_type": "code",
      "source": [
        "test2(2)"
      ],
      "metadata": {
        "colab": {
          "base_uri": "https://localhost:8080/"
        },
        "id": "BPPiDY9V_FLO",
        "outputId": "35f0f149-cbed-4b36-dd43-c3397f2131d9"
      },
      "execution_count": 31,
      "outputs": [
        {
          "output_type": "stream",
          "name": "stdout",
          "text": [
            "test1 print the value of x 2 and print the value of i 0\n",
            "test1 print the value of x 2 and print the value of i 1\n",
            "test1 print the value of x 2 and print the value of i 2\n",
            "test1 print the value of x 2 and print the value of i 3\n",
            "test1 print the value of x 2 and print the value of i 4\n",
            "test1 print the value of x 2 and print the value of i 5\n",
            "test1 print the value of x 2 and print the value of i 6\n",
            "test1 print the value of x 2 and print the value of i 7\n",
            "test1 print the value of x 2 and print the value of i 8\n",
            "test1 print the value of x 2 and print the value of i 9\n"
          ]
        }
      ]
    },
    {
      "cell_type": "code",
      "source": [
        "shared_var = 0\n",
        "lock_var = threading.Lock()\n",
        "def test3(x):\n",
        "  global shared_var\n",
        "  with lock_var:\n",
        "    shared_var = shared_var+1\n",
        "    print(\"value of x %d and value of shared_var %d \" %(x, shared_var))\n",
        "time.sleep(1)\n",
        "\n",
        "thread4 = [threading.Thread(target=test3, args=(i,)) for i in [1,2,3,4,5,6]]\n",
        "for t in thread4:\n",
        "  t.start()"
      ],
      "metadata": {
        "colab": {
          "base_uri": "https://localhost:8080/"
        },
        "id": "JNUNLtZtA7CC",
        "outputId": "9ac166c7-823c-4744-81ec-39c0c90ef6d2"
      },
      "execution_count": 62,
      "outputs": [
        {
          "output_type": "stream",
          "name": "stdout",
          "text": [
            "value of x 1 and value of shared_var 1 \n",
            "value of x 2 and value of shared_var 2 \n",
            "value of x 3 and value of shared_var 3 \n",
            "value of x 4 and value of shared_var 4 \n",
            "value of x 5 and value of shared_var 5 \n",
            "value of x 6 and value of shared_var 6 \n"
          ]
        }
      ]
    },
    {
      "cell_type": "code",
      "source": [
        "test3(1)"
      ],
      "metadata": {
        "colab": {
          "base_uri": "https://localhost:8080/"
        },
        "id": "t-Z_swy_BoYc",
        "outputId": "a77a1f36-0222-4008-8d52-9c666631c246"
      },
      "execution_count": 63,
      "outputs": [
        {
          "output_type": "stream",
          "name": "stdout",
          "text": [
            "value of x 1 and value of shared_var 7 \n"
          ]
        }
      ]
    },
    {
      "cell_type": "code",
      "source": [
        "test3(2)"
      ],
      "metadata": {
        "colab": {
          "base_uri": "https://localhost:8080/"
        },
        "id": "M2RToYV-BsfO",
        "outputId": "358e2a7f-23c5-454a-c54e-ad12191a1a3c"
      },
      "execution_count": 64,
      "outputs": [
        {
          "output_type": "stream",
          "name": "stdout",
          "text": [
            "value of x 2 and value of shared_var 8 \n"
          ]
        }
      ]
    }
  ]
}